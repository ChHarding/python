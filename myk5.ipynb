{
 "cells": [
  {
   "cell_type": "markdown",
   "metadata": {},
   "source": [
    "# PYTHON OOP: Design of the Reservation Management System for a Boutique Hotel in Mykonos, Greece."
   ]
  },
  {
   "cell_type": "code",
   "execution_count": null,
   "metadata": {},
   "outputs": [],
   "source": [
    "import datetime\n",
    "from datetime import date"
   ]
  },
  {
   "cell_type": "markdown",
   "metadata": {},
   "source": [
    "Class villa encapsulates the following rented villa characteristics: name of villa, name of personal assistant. It also offers functions that inform about the hours that the personal assistant will be on call and the dates that the villa will be cleaned and keys will be changed. In addition, it has a function to print the label of the gift that is left in the room of each new guest. "
   ]
  },
  {
   "cell_type": "code",
   "execution_count": null,
   "metadata": {},
   "outputs": [],
   "source": [
    "class villa(object):\n",
    "    def __init__(self,n,id):\n",
    "        self.villaName=n\n",
    "    def setPersonalAssistant(self,pa):\n",
    "        self.personalAssistant=pa\n",
    "        print(f\"{pa} will be on call from 8.00am to 8.00pm for villa {self.villaName}\")\n",
    "    def cleanAndChangeKey(self,d1,d2):\n",
    "        print(f\"Villa {self.villaName} will be cleaned and keys will be changed on {d1} and {d2}\")\n",
    "    def printGiftLabel(self,s):\n",
    "        print(f\"Welcome at the {self.villaName}, {s} party!\")"
   ]
  },
  {
   "cell_type": "markdown",
   "metadata": {},
   "source": [
    "Class vipVilla inherits from class villa. It encapsulates the name of the VIP personal assistant and offers an access function to it."
   ]
  },
  {
   "cell_type": "code",
   "execution_count": null,
   "metadata": {},
   "outputs": [],
   "source": [
    "class vipVilla(villa):\n",
    "    def __init__(self,nn,id):\n",
    "        villa.__init__(self,nn,id)\n",
    "\n",
    "    def setPersonalAssistant(self,pa):\n",
    "        self.vipPersAssist=pa\n",
    "        print(f\"{pa} will be on call (7.00am-9.00pm) for villa {self.villaName} and arrange for a personal yacht\")"
   ]
  },
  {
   "cell_type": "markdown",
   "metadata": {},
   "source": [
    "Class guest encapsulates the following attributes of a guest: first and last name, number of adults, and number of children in the room. It offers an access function to last name and a printing function for the guest object."
   ]
  },
  {
   "cell_type": "code",
   "execution_count": null,
   "metadata": {},
   "outputs": [],
   "source": [
    "class guest(object):\n",
    "    def __init__(self,l1,f1,b,c):\n",
    "       self.first=l1\n",
    "       self.last=f1\n",
    "       self.noofAdults=b\n",
    "       self.noofChildren=c\n",
    "    def getLastName(self):\n",
    "        return self.last\n",
    "    def __repr__(self):\n",
    "       return 'Guest: (%s, %s)' % (self.first, self.last)"
   ]
  },
  {
   "cell_type": "markdown",
   "metadata": {},
   "source": [
    "Class reservation encapsulates the following attributes of a reservation: the name of the reserved villa, checkin date, checkout date, reservation ID, a printing function for the reservation class."
   ]
  },
  {
   "cell_type": "code",
   "execution_count": null,
   "metadata": {},
   "outputs": [],
   "source": [
    "class reservation(object):\n",
    "    def __init__(self,n,de,le):\n",
    "         self.checkinDate=de\n",
    "         self.lengthofStay=le\n",
    "         self.villaName=n\n",
    "         self.checkoutDate=de+datetime.timedelta(days=le)\n",
    "    def getvillaName(self):\n",
    "             return self.villaName\n",
    "    def getcheckinDate(self):\n",
    "            return self.checkinDate\n",
    "    def getcheckoutDate(self):\n",
    "            return self.checkoutDate\n",
    "    def setreservID(self,id):\n",
    "        self.reservID=id\n",
    "    def __repr__(self):\n",
    "       return 'Reservation: (%s, %s, %s, %s)' % (self.checkinDate, self.lengthofStay, self.villaName,self.reservID)"
   ]
  },
  {
   "cell_type": "markdown",
   "metadata": {},
   "source": [
    "Class resort encapsulates the following attributes:  a list with the names of the (standard) villas, a list with the names of the VIP villas, a guest list, a reservation list and a reservation ID list. It also offers access functions to a Guest object, Reservation object, reservation ID and a function that prints all lists."
   ]
  }
 ],
 "metadata": {
  "kernelspec": {
   "display_name": "Python 3",
   "language": "python",
   "name": "python3"
  },
  "language_info": {
   "codemirror_mode": {
    "name": "ipython",
    "version": 3
   },
   "file_extension": ".py",
   "mimetype": "text/x-python",
   "name": "python",
   "nbconvert_exporter": "python",
   "pygments_lexer": "ipython3",
   "version": "3.7.1"
  }
 },
 "nbformat": 4,
 "nbformat_minor": 2
}
